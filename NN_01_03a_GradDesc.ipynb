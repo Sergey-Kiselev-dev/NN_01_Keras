{
  "cells": [
    {
      "cell_type": "markdown",
      "metadata": {
        "id": "view-in-github",
        "colab_type": "text"
      },
      "source": [
        "<a href=\"https://colab.research.google.com/github/Sergey-Kiselev-dev/NN_01_Keras/blob/main/NN_01_03a_GradDesc.ipynb\" target=\"_parent\"><img src=\"https://colab.research.google.com/assets/colab-badge.svg\" alt=\"Open In Colab\"/></a>"
      ]
    },
    {
      "cell_type": "markdown",
      "source": [
        "Градиентный спуск\n",
        "===\n",
        "\n",
        "Сегодня обсудим:\n",
        "\n",
        "Для чего нужен градиентный спуск для нейронных сетей\n",
        "1. Что такое градиент\n",
        "2. Что такое градиентный спуск\n",
        "\n",
        "Для чего нужен?\n",
        "---\n",
        "Чтобы ответить на данный вопрос, давайте возьмем задачу построения и обучения сети для умножения на 3.\n",
        "\n",
        "Создадим обучающие данные"
      ],
      "metadata": {
        "id": "lFrypXW-o70Z"
      }
    },
    {
      "cell_type": "code",
      "source": [
        "import numpy as np\n",
        "\n",
        "X = np.array([[1], [3], [2], [10], [4], [7], [8]])\n",
        "y = np.array([[3, 9, 6, 30, 12, 21, 24]]).T"
      ],
      "metadata": {
        "id": "GaVyDD4wpqMq"
      },
      "execution_count": null,
      "outputs": []
    },
    {
      "cell_type": "markdown",
      "source": [
        "Создадим сеть, она очень простая, состоит из одного слоя и одного нейрона.\n",
        "\n",
        "input --> 0 --> outpot"
      ],
      "metadata": {
        "id": "ak9qsmobqCUw"
      }
    },
    {
      "cell_type": "code",
      "source": [
        "from keras.layers import Dense\n",
        "from keras.models import Sequential\n",
        "import tensorflow as tf\n",
        "tf.random.set_seed(0)\n",
        "\n",
        "model = Sequential([\n",
        "    Dense(1, input_shape=(1,), activation='linear')\n",
        "])\n",
        "\n",
        "model.summary()"
      ],
      "metadata": {
        "id": "8Wyz51XfqD_4"
      },
      "execution_count": null,
      "outputs": []
    },
    {
      "cell_type": "markdown",
      "source": [
        "Весов у нас выходит две штуки, это вышло из-за того, что для каждого нейрона в линейном слое есть отклонение (bias)."
      ],
      "metadata": {
        "id": "Qo4bTRJaqYcw"
      }
    },
    {
      "cell_type": "code",
      "source": [
        "w1, w0 = model.get_weights()\n",
        "w1 = w1[0][0]\n",
        "w0 = w0[0]\n",
        "\n",
        "w1, w0"
      ],
      "metadata": {
        "id": "KWgRCdH5qag4"
      },
      "execution_count": null,
      "outputs": []
    },
    {
      "cell_type": "markdown",
      "source": [
        "Теперь сделаем предсказание этой моделью на одном объекте."
      ],
      "metadata": {
        "id": "2xneMRrxqhrA"
      }
    },
    {
      "cell_type": "code",
      "source": [
        "X[:1]"
      ],
      "metadata": {
        "id": "V1h8Rtr8qi3I"
      },
      "execution_count": null,
      "outputs": []
    },
    {
      "cell_type": "markdown",
      "source": [
        "Предсказание получается очень далекими от истины, потому что сеть еще не знает, для чего её создали."
      ],
      "metadata": {
        "id": "kWFspEzBqpLz"
      }
    },
    {
      "cell_type": "code",
      "source": [
        "model.predict(X[:1])"
      ],
      "metadata": {
        "id": "V0GAyYrJqqxA"
      },
      "execution_count": null,
      "outputs": []
    },
    {
      "cell_type": "code",
      "source": [
        "w1 * X[:1] + w0"
      ],
      "metadata": {
        "id": "5N22tC82qx1P"
      },
      "execution_count": null,
      "outputs": []
    },
    {
      "cell_type": "code",
      "source": [
        "from keras.activations import linear\n",
        "linear(w1 * X[:1] + w0)"
      ],
      "metadata": {
        "id": "deN14zajq2zv"
      },
      "execution_count": null,
      "outputs": []
    },
    {
      "cell_type": "markdown",
      "source": [
        "Оптимизируем/уменьшаем ошибку MSE - а это функция, которая меняется от весов в нейроне.\n",
        "\n",
        "Можем взять по 100 разных значений весов и посчитать в них MSE и отобразить на трехмерном графике.\n",
        "\n",
        "Так же отобразим и веса, которые есть на момент инициализации сети."
      ],
      "metadata": {
        "id": "4NNjziodq664"
      }
    },
    {
      "cell_type": "code",
      "source": [
        "from mpl_toolkits.mplot3d.axes3d import Axes3D\n",
        "import matplotlib.pyplot as plt\n",
        "\n",
        "\n",
        "def mse(w1, w0):\n",
        "    y_pred = w1 * X[:, 0] + w0\n",
        "    return np.mean((y - y_pred) ** 2)\n",
        "\n",
        "\n",
        "coefs_w1 = np.linspace(-5, 10, num=100)\n",
        "coefs_w0 = np.linspace(-5, 5, num=100)\n",
        "w1s, w0s = np.meshgrid(coefs_w1, coefs_w0)\n",
        "\n",
        "\n",
        "fig = plt.figure(figsize=(15, 10))\n",
        "ax = fig.add_subplot(111, projection='3d')\n",
        "\n",
        "zs = np.array([mse(i, j) for i, j in zip(np.ravel(w1s), np.ravel(w0s))])\n",
        "Z = zs.reshape(w1s.shape)\n",
        "\n",
        "ax.plot_surface(w1s, w0s, Z, alpha=.5)\n",
        "ax.scatter(w1, w0, mse(w1, w0), c='r', s=5)\n",
        "\n",
        "ax.set_xlabel(r'$w_1$')\n",
        "ax.set_ylabel(r'$w_0$')\n",
        "ax.set_zlabel('MSE')\n",
        "\n",
        "plt.show()"
      ],
      "metadata": {
        "id": "IPWvKlrnrCCo"
      },
      "execution_count": null,
      "outputs": []
    },
    {
      "cell_type": "code",
      "source": [
        "coefs_w1 = np.linspace(-5, 10, num=100)\n",
        "coefs_w0 = np.linspace(-5, 5, num=100)\n",
        "w1s, w0s = np.meshgrid(coefs_w1, coefs_w0)\n",
        "\n",
        "zs = np.array([round(mse(i, j)) for i, j in zip(np.ravel(w1s), np.ravel(w0s))])\n",
        "Z = zs.reshape(w1s.shape)\n",
        "\n",
        "fig = plt.figure(figsize = (10,7))\n",
        "plt.imshow(Z, extent=[-5,10, -5,5], origin = 'lower', cmap = 'jet', alpha = 1)\n",
        "plt.colorbar()\n",
        "plt.scatter(w1, w0, c='r', s=15, label='start weights')\n",
        "\n",
        "\n",
        "plt.xlabel('w1', fontsize=11)\n",
        "plt.ylabel('w0', fontsize=11)\n",
        "\n",
        "plt.legend(loc=\"upper right\");"
      ],
      "metadata": {
        "id": "03BpUa60rQ1_"
      },
      "execution_count": null,
      "outputs": []
    },
    {
      "cell_type": "markdown",
      "source": [
        "Чтобы оказаться в самой минимальной ошибке нужно до нее дойти, а идти до нее можем с помощью градиентного спуска.\n",
        "\n",
        "Градиентный спуск\n",
        "---\n",
        "\n",
        "> **Градиентный спуск** — метод нахождения локального минимума или максимума функции с помощью движения вдоль градиента."
      ],
      "metadata": {
        "id": "KkWy0zrbrj7w"
      }
    },
    {
      "cell_type": "markdown",
      "source": [
        "_Градиентом_ функции $f$ называется $n$-мерный вектор из частных производных.\n",
        "\n",
        "$$ \\nabla f(x_{1},...,x_{d}) = \\left(\\frac{\\partial f}{\\partial x_{i}}\\right)^{d}_{i=1}.$$\n",
        "\n",
        "К примеру, если функция зависит от трех переменных: $F(x, y, z)$, то её градиент будет равен\n",
        "\n",
        "$$\\nabla f(x, y, z) = (\\frac{\\partial f}{\\partial x}, \\frac{\\partial f}{\\partial y}, \\frac{\\partial f}{\\partial z}) $$\n",
        "\n",
        "При этом, __градиент задает направление наискорейшего роста функции__. Значит, антиградиент будет показывать направление ее скорейшего убывания, что будет полезно нам в нашей задаче минимизации функционала ошибки."
      ],
      "metadata": {
        "id": "uKdNY1Ror0pn"
      }
    },
    {
      "cell_type": "markdown",
      "source": [
        "Давайте попробуем реализовать программно градиентный спуск на нашем примере, чтобы лучше понять как он работает.\n",
        "\n",
        "Функция, которую здесь оптимизируем - это MSE, её график для конкретно нашей задачи рисовали выше."
      ],
      "metadata": {
        "id": "J3k3rjiqr7_Y"
      }
    },
    {
      "cell_type": "markdown",
      "source": [
        "#### Вручную"
      ],
      "metadata": {
        "id": "BFnZoO8esG8H"
      }
    },
    {
      "cell_type": "markdown",
      "source": [
        "Реализуем две функции:\n",
        "1. mserror - функция среднеквадратичной ошибки $MSE = \\frac{1}{n}\\sum_{i=0}^n{(\\text{y}_i-\\text{y_pred}_i})^2 = \\frac{1}{n}\\sum_{i=0}^n{(\\text{y}_i-(w_1\\cdot X_i + w_0)})^2 = \\frac{1}{n}\\sum_{i=0}^n{(\\text{y}_i-w_1\\cdot X_i - w_0})^2$\n",
        "\n",
        "\n",
        "2. gr_mserror - градиент функции MSE. Распишем его отдельно для весов:\n",
        "\n",
        "\n",
        "$w_1$:\n",
        "$\\frac{∂ MSE}{∂ w_1} = \\frac{1 \\cdot 2}{n}\\sum({y_i -\\text{y_pred}_i})\\cdot -X$\n",
        "\n",
        "$w_0$:\n",
        "$\\frac{∂ MSE}{∂ w_0} = \\frac{1 \\cdot 2}{n}\\sum({y_i -\\text{y_pred}_i})\\cdot -1$"
      ],
      "metadata": {
        "id": "8KZChwiUsKT3"
      }
    },
    {
      "cell_type": "code",
      "source": [
        "# функция, определяющая среднеквадратичную ошибку\n",
        "def mserror(X, w1, w0, y):\n",
        "    y_pred = w1 * X[:, 0] + w0\n",
        "    return np.sum((y - y_pred) ** 2) / len(y_pred)\n",
        "\n",
        "# функция градиента\n",
        "def gr_mserror(X, w1, w0, y):\n",
        "    y_pred = w1 * X + w0\n",
        "    return {'grad_w1': 2/len(y)*np.sum((y - y_pred) * (-X)),\n",
        "            'grad_w0': 2/len(y)*np.sum((y - y_pred)) * (-1)}"
      ],
      "metadata": {
        "id": "MJWUHD7JsPX3"
      },
      "execution_count": null,
      "outputs": []
    },
    {
      "cell_type": "markdown",
      "source": [
        "Перед тем, как считать градиенты и перед тем, как запускать градиентный спуск, давайте посчитаем ошибку"
      ],
      "metadata": {
        "id": "pRoM8INlsX1v"
      }
    },
    {
      "cell_type": "code",
      "source": [
        "preds = X * w1 + w0\n",
        "preds"
      ],
      "metadata": {
        "id": "GlBkBEAEsccf"
      },
      "execution_count": null,
      "outputs": []
    },
    {
      "cell_type": "code",
      "source": [
        "import pandas as pd\n",
        "\n",
        "df = pd.DataFrame({\n",
        "   'true': np.squeeze(y),\n",
        "   'pred': np.squeeze(preds)\n",
        "})\n",
        "\n",
        "df"
      ],
      "metadata": {
        "id": "d7QuEOEdsjBw"
      },
      "execution_count": null,
      "outputs": []
    },
    {
      "cell_type": "code",
      "source": [
        "np.mean((df['true'] - df['pred']) ** 2)"
      ],
      "metadata": {
        "id": "4QrBVRmQsv8X"
      },
      "execution_count": null,
      "outputs": []
    },
    {
      "cell_type": "markdown",
      "source": [
        "Инициализация начальной точки"
      ],
      "metadata": {
        "id": "DJiAGQ8esz3P"
      }
    },
    {
      "cell_type": "code",
      "source": [
        "weights_1 = [w1]\n",
        "weights_0 = [w0]\n",
        "grad = gr_mserror(X, w1, w0, y)\n",
        "grad"
      ],
      "metadata": {
        "id": "aJgAv2-ws1Bo"
      },
      "execution_count": null,
      "outputs": []
    },
    {
      "cell_type": "code",
      "source": [
        "next_w_1 = w1 - grad['grad_w1']\n",
        "next_w_0 = w0 - grad['grad_w0']\n",
        "\n",
        "next_w_1, next_w_0"
      ],
      "metadata": {
        "id": "PC3jJ7Pis-vx"
      },
      "execution_count": null,
      "outputs": []
    },
    {
      "cell_type": "markdown",
      "source": [
        "Получились очень большие веса, давайте посчитаем на них ошибку"
      ],
      "metadata": {
        "id": "3j3DEtlgtDgB"
      }
    },
    {
      "cell_type": "code",
      "source": [
        "preds = X * next_w_1 + next_w_0\n",
        "\n",
        "df = pd.DataFrame({\n",
        "   'true': np.squeeze(y),\n",
        "   'pred': np.squeeze(preds)\n",
        "})\n",
        "\n",
        "df"
      ],
      "metadata": {
        "id": "o010GpfztEmg"
      },
      "execution_count": null,
      "outputs": []
    },
    {
      "cell_type": "code",
      "source": [
        "np.mean((df['true'] - df['pred']) ** 2)"
      ],
      "metadata": {
        "id": "HCFCuuB-tNaO"
      },
      "execution_count": null,
      "outputs": []
    },
    {
      "cell_type": "markdown",
      "source": [
        "Совсем гигантская получилась ошибка, значит что-то пошло не так. А именно пошли не так градиенты, они очень большие, то есть функция растет быстрее, чем она уменьшается в другом направлении.\n",
        "\n",
        "Чтобы этого избежать можем использовать скорость обучения (learning rate).\n",
        "\n",
        "> **Скорость обучения** — это параметр градиентных алгоритмов, позволяющий управлять величиной коррекции весов на каждой итерации."
      ],
      "metadata": {
        "id": "70Lzoq3otSx3"
      }
    },
    {
      "cell_type": "code",
      "source": [
        "grad = gr_mserror(X, w1, w0, y)\n",
        "grad"
      ],
      "metadata": {
        "id": "EaNbOcfmtUxv"
      },
      "execution_count": null,
      "outputs": []
    },
    {
      "cell_type": "code",
      "source": [
        "lr = 0.01\n",
        "\n",
        "next_w_1 = w1 - lr * grad['grad_w1']\n",
        "next_w_0 = w0 - lr * grad['grad_w0']\n",
        "\n",
        "weights_1.append(next_w_1)\n",
        "weights_0.append(next_w_0)\n",
        "\n",
        "next_w_1, next_w_0"
      ],
      "metadata": {
        "id": "iR0TYjiFtbEe"
      },
      "execution_count": null,
      "outputs": []
    },
    {
      "cell_type": "markdown",
      "source": [
        "Получились веса не такие большие, как после первого запуска.\n",
        "\n",
        "Посчитаем ошибку"
      ],
      "metadata": {
        "id": "8Pcz84oHtlRP"
      }
    },
    {
      "cell_type": "code",
      "source": [
        "preds = X * next_w_1 + next_w_0\n",
        "\n",
        "df = pd.DataFrame({\n",
        "   'true': np.squeeze(y),\n",
        "   'pred': np.squeeze(preds)\n",
        "})\n",
        "\n",
        "df"
      ],
      "metadata": {
        "id": "9UTNakRstmR3"
      },
      "execution_count": null,
      "outputs": []
    },
    {
      "cell_type": "code",
      "source": [
        "np.mean((df['true'] - df['pred']) ** 2)"
      ],
      "metadata": {
        "id": "ZgXJCspWtsJ3"
      },
      "execution_count": null,
      "outputs": []
    },
    {
      "cell_type": "markdown",
      "source": [
        "Движемся в правильном направлении, судя по ошибке."
      ],
      "metadata": {
        "id": "HNIAkaC5twzX"
      }
    },
    {
      "cell_type": "code",
      "source": [
        "coefs_w1 = np.linspace(-5, 10, num=100)\n",
        "coefs_w0 = np.linspace(-5, 5, num=100)\n",
        "w1s, w0s = np.meshgrid(coefs_w1, coefs_w0)\n",
        "\n",
        "zs = np.array([round(mse(i, j)) for i, j in zip(np.ravel(w1s), np.ravel(w0s))])\n",
        "Z = zs.reshape(w1s.shape)\n",
        "\n",
        "fig = plt.figure(figsize = (10,7))\n",
        "plt.imshow(Z, extent=[-5,10, -5,5], origin = 'lower', cmap = 'jet', alpha = 1)\n",
        "plt.colorbar()\n",
        "\n",
        "\n",
        "plt.plot(weights_1, weights_0, label='gradient descent', c='r')\n",
        "plt.scatter(weights_1, weights_0, marker='*', c='r')\n",
        "\n",
        "plt.xlabel('w1', fontsize=11)\n",
        "plt.ylabel('w0', fontsize=11)\n",
        "\n",
        "plt.legend(loc=\"upper right\");"
      ],
      "metadata": {
        "id": "fDXSBEFrtyHo"
      },
      "execution_count": null,
      "outputs": []
    },
    {
      "cell_type": "code",
      "source": [
        "grad = gr_mserror(X, next_w_1, next_w_0, y)\n",
        "grad"
      ],
      "metadata": {
        "id": "ZXB21POMwE7n"
      },
      "execution_count": null,
      "outputs": []
    },
    {
      "cell_type": "code",
      "source": [
        "next_w_1 = next_w_1 - lr * grad['grad_w1']\n",
        "next_w_0 = next_w_0 - lr * grad['grad_w0']\n",
        "\n",
        "weights_1.append(next_w_1)\n",
        "weights_0.append(next_w_0)\n",
        "\n",
        "next_w_1, next_w_0"
      ],
      "metadata": {
        "id": "rQL_hgxXwKRd"
      },
      "execution_count": null,
      "outputs": []
    },
    {
      "cell_type": "code",
      "source": [
        "preds = X * next_w_1 + next_w_0\n",
        "\n",
        "df = pd.DataFrame({\n",
        "   'true': np.squeeze(y),\n",
        "   'pred': np.squeeze(preds)\n",
        "})\n",
        "\n",
        "np.mean((df['true'] - df['pred']) ** 2)"
      ],
      "metadata": {
        "id": "IKLD-w6vwPJW"
      },
      "execution_count": null,
      "outputs": []
    },
    {
      "cell_type": "markdown",
      "source": [
        "Движемся в правильном направлении, судя по ошибке."
      ],
      "metadata": {
        "id": "IBkNoMwRwUOO"
      }
    },
    {
      "cell_type": "code",
      "source": [
        "coefs_w1 = np.linspace(-5, 10, num=100)\n",
        "coefs_w0 = np.linspace(-5, 5, num=100)\n",
        "w1s, w0s = np.meshgrid(coefs_w1, coefs_w0)\n",
        "\n",
        "zs = np.array([round(mse(i, j)) for i, j in zip(np.ravel(w1s), np.ravel(w0s))])\n",
        "Z = zs.reshape(w1s.shape)\n",
        "\n",
        "fig = plt.figure(figsize = (10,7))\n",
        "plt.imshow(Z, extent=[-5,10, -5,5], origin = 'lower', cmap = 'jet', alpha = 1)\n",
        "plt.colorbar()\n",
        "\n",
        "\n",
        "plt.plot(weights_1, weights_0, label='gradient descent', c='r')\n",
        "plt.scatter(weights_1, weights_0, marker='*', c='r')\n",
        "\n",
        "plt.xlabel('w1', fontsize=11)\n",
        "plt.ylabel('w0', fontsize=11)\n",
        "\n",
        "plt.legend(loc=\"upper right\");"
      ],
      "metadata": {
        "id": "wxZUUfLDwVIs"
      },
      "execution_count": null,
      "outputs": []
    },
    {
      "cell_type": "code",
      "source": [
        "# количество итерация\n",
        "n = 100\n",
        "\n",
        "for i in range(n):\n",
        "    cur_weight_1 = next_w_1\n",
        "    cur_weight_0 = next_w_0\n",
        "    grad = gr_mserror(X, cur_weight_1, cur_weight_0, y)\n",
        "\n",
        "    next_w_1 = cur_weight_1 - lr * grad['grad_w1']\n",
        "    next_w_0 = cur_weight_0 - lr * grad['grad_w0']\n",
        "\n",
        "    weights_1.append(next_w_1)\n",
        "    weights_0.append(next_w_0)\n",
        "\n",
        "preds = X * cur_weight_1 + cur_weight_0\n",
        "\n",
        "df = pd.DataFrame({\n",
        "   'true': np.squeeze(y),\n",
        "   'pred': np.squeeze(preds)\n",
        "})\n",
        "\n",
        "df"
      ],
      "metadata": {
        "id": "7TdKxdoPwkh-"
      },
      "execution_count": null,
      "outputs": []
    },
    {
      "cell_type": "code",
      "source": [
        "np.mean((df['true'] - df['pred']) ** 2)"
      ],
      "metadata": {
        "id": "IPnSfPfRww3V"
      },
      "execution_count": null,
      "outputs": []
    },
    {
      "cell_type": "code",
      "source": [
        "coefs_w1 = np.linspace(-5, 10, num=100)\n",
        "coefs_w0 = np.linspace(-5, 5, num=100)\n",
        "w1s, w0s = np.meshgrid(coefs_w1, coefs_w0)\n",
        "\n",
        "zs = np.array([round(mse(i, j)) for i, j in zip(np.ravel(w1s), np.ravel(w0s))])\n",
        "Z = zs.reshape(w1s.shape)\n",
        "\n",
        "fig = plt.figure(figsize = (10,7))\n",
        "plt.imshow(Z, extent=[-5,10, -5,5], origin = 'lower', cmap = 'jet', alpha = 1)\n",
        "plt.colorbar()\n",
        "\n",
        "\n",
        "plt.plot(weights_1, weights_0, label='gradient descent', c='r')\n",
        "plt.scatter(weights_1, weights_0, marker='*', c='r')\n",
        "\n",
        "plt.xlabel('w1', fontsize=11)\n",
        "plt.ylabel('w0', fontsize=11)\n",
        "\n",
        "plt.legend(loc=\"upper right\");"
      ],
      "metadata": {
        "id": "j0O-TlXtw1nV"
      },
      "execution_count": null,
      "outputs": []
    },
    {
      "cell_type": "markdown",
      "source": [
        "#### Алгоритм градиентного спуска\n",
        "\n",
        "1. Инициализация начальной точки\n",
        "2. Цикл по k = 1,2,3,...:\n",
        "\n",
        "- $ w_{k} = w_{k-1} - \\eta\\nabla f(w_{k-1}) $\n"
      ],
      "metadata": {
        "id": "8YCG2WmPw77e"
      }
    },
    {
      "cell_type": "markdown",
      "source": [
        "#### Через Keras"
      ],
      "metadata": {
        "id": "noYQkp-_xFs1"
      }
    },
    {
      "cell_type": "code",
      "source": [
        "df = pd.DataFrame({\n",
        "   'true': np.squeeze(y),\n",
        "   'pred': np.squeeze(model.predict(X))\n",
        "})\n",
        "\n",
        "np.mean((df['true'] - df['pred']) ** 2)"
      ],
      "metadata": {
        "id": "kmRUH4asxG9-"
      },
      "execution_count": null,
      "outputs": []
    },
    {
      "cell_type": "code",
      "source": [
        "model.compile(optimizer='sgd', loss='mse', metrics=[tf.keras.metrics.CategoricalAccuracy()])\n",
        "\n",
        "model.get_weights()[0][0][0], model.get_weights()[1][0]"
      ],
      "metadata": {
        "id": "LKJnXROhxR53"
      },
      "execution_count": null,
      "outputs": []
    },
    {
      "cell_type": "code",
      "source": [
        "n_epochs = 10\n",
        "weights = [[model.get_weights()[0][0][0], model.get_weights()[1][0]]]\n",
        "\n",
        "for i in range(n_epochs):\n",
        "    model.fit(X, y)\n",
        "    weights.append([model.get_weights()[0][0][0], model.get_weights()[1][0]])\n",
        "\n",
        "weights = np.array(weights)\n",
        "weights"
      ],
      "metadata": {
        "id": "V-ecHgS1xnet"
      },
      "execution_count": null,
      "outputs": []
    },
    {
      "cell_type": "code",
      "source": [
        "import pandas as pd\n",
        "\n",
        "df = pd.DataFrame({\n",
        "   'true': np.squeeze(y),\n",
        "   'pred': np.squeeze(model.predict(X))\n",
        "})\n",
        "\n",
        "df"
      ],
      "metadata": {
        "id": "IK4yLbK6xyQu"
      },
      "execution_count": null,
      "outputs": []
    },
    {
      "cell_type": "code",
      "source": [
        "np.mean((df['true'] - df['pred']) ** 2)"
      ],
      "metadata": {
        "id": "fUq8b-DRzHml"
      },
      "execution_count": null,
      "outputs": []
    },
    {
      "cell_type": "code",
      "source": [
        "coefs_w1 = np.linspace(-5, 10, num=100)\n",
        "coefs_w0 = np.linspace(-5, 5, num=100)\n",
        "w1s, w0s = np.meshgrid(coefs_w1, coefs_w0)\n",
        "\n",
        "\n",
        "fig = plt.figure(figsize=(15, 10))\n",
        "ax = fig.add_subplot(111, projection='3d')\n",
        "\n",
        "zs = np.array([mse(i, j) for i, j in zip(np.ravel(w1s), np.ravel(w0s))])\n",
        "Z = zs.reshape(w1s.shape)\n",
        "\n",
        "ax.plot_surface(w1s, w0s, Z, alpha=.5)\n",
        "\n",
        "mses = []\n",
        "for weight1, weight0 in weights:\n",
        "    mses.append(mse(weight1, weight0))\n",
        "\n",
        "ax.plot(weights[:, 0], weights[:, 1], mses, label='gradient descent', c='r')\n",
        "ax.scatter(weights[:, 0], weights[:, 1], mses, c='r', marker='*', s=50)\n",
        "\n",
        "\n",
        "ax.set_xlabel(r'$w_1$')\n",
        "ax.set_ylabel(r'$w_0$')\n",
        "ax.set_zlabel('MSE')\n",
        "\n",
        "plt.show()"
      ],
      "metadata": {
        "id": "NJOp0lr6zNW2"
      },
      "execution_count": null,
      "outputs": []
    },
    {
      "cell_type": "code",
      "source": [
        "coefs_w1 = np.linspace(-5, 10, num=100)\n",
        "coefs_w0 = np.linspace(-5, 5, num=100)\n",
        "w1s, w0s = np.meshgrid(coefs_w1, coefs_w0)\n",
        "\n",
        "zs = np.array([round(mse(i, j)) for i, j in zip(np.ravel(w1s), np.ravel(w0s))])\n",
        "Z = zs.reshape(w1s.shape)\n",
        "\n",
        "fig = plt.figure(figsize = (10,7))\n",
        "plt.imshow(Z, extent=[-5,10, -5,5], origin = 'lower', cmap = 'jet', alpha = 1)\n",
        "plt.colorbar()\n",
        "\n",
        "\n",
        "plt.plot(weights[:, 0], weights[:, 1], label='gradient descent', c='r')\n",
        "plt.scatter(weights[:, 0], weights[:, 1], marker='*', c='r')\n",
        "\n",
        "plt.xlabel('w1', fontsize=11)\n",
        "plt.ylabel('w0', fontsize=11)\n",
        "\n",
        "plt.legend(loc=\"upper right\");"
      ],
      "metadata": {
        "id": "C8WOzSl9zUd9"
      },
      "execution_count": null,
      "outputs": []
    }
  ],
  "metadata": {
    "colab": {
      "private_outputs": true,
      "toc_visible": true,
      "provenance": [],
      "include_colab_link": true
    },
    "kernelspec": {
      "display_name": "Python 3",
      "name": "python3"
    },
    "language_info": {
      "name": "python"
    }
  },
  "nbformat": 4,
  "nbformat_minor": 0
}