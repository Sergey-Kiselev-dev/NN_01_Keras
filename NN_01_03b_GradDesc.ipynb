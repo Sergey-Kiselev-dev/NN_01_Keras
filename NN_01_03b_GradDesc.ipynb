{
  "cells": [
    {
      "cell_type": "markdown",
      "metadata": {
        "id": "view-in-github",
        "colab_type": "text"
      },
      "source": [
        "<a href=\"https://colab.research.google.com/github/Sergey-Kiselev-dev/NN_01_Keras/blob/main/NN_01_03b_GradDesc.ipynb\" target=\"_parent\"><img src=\"https://colab.research.google.com/assets/colab-badge.svg\" alt=\"Open In Colab\"/></a>"
      ]
    },
    {
      "cell_type": "markdown",
      "source": [
        "## Сеть для классификации чисел"
      ],
      "metadata": {
        "id": "lFrypXW-o70Z"
      }
    },
    {
      "cell_type": "markdown",
      "source": [
        "Подгрузим данные из стандартных датасетов из keras.\n",
        "\n",
        "Датасет называется MNIST и представляет из себя черно-белые изображения 28 на 28 пикселей."
      ],
      "metadata": {
        "id": "43-qoEi3z-au"
      }
    },
    {
      "cell_type": "code",
      "source": [
        "import numpy as np\n",
        "import tensorflow as tf\n",
        "from keras.datasets import mnist\n",
        "\n",
        "(X_train, y_train), (X_test, y_test) = mnist.load_data()\n",
        "\n",
        "X_train.shape, X_test.shape"
      ],
      "metadata": {
        "id": "rAAqjDu-0DP1"
      },
      "execution_count": null,
      "outputs": []
    },
    {
      "cell_type": "code",
      "source": [
        "X_train[0].shape"
      ],
      "metadata": {
        "id": "C6CUdTyj0V2c"
      },
      "execution_count": null,
      "outputs": []
    },
    {
      "cell_type": "code",
      "source": [
        "import matplotlib.pyplot as plt\n",
        "\n",
        "fig, ax = plt.subplots(1, 5, figsize=(15, 10))\n",
        "\n",
        "for i in range(5):\n",
        "    ax[i].imshow(X_train[i], cmap='gray')\n",
        "    ax[i].axis('off')"
      ],
      "metadata": {
        "id": "kyoyquWQ0aJE"
      },
      "execution_count": null,
      "outputs": []
    },
    {
      "cell_type": "code",
      "source": [
        "y_train[:5]"
      ],
      "metadata": {
        "id": "uUn-HoBM00H1"
      },
      "execution_count": null,
      "outputs": []
    },
    {
      "cell_type": "markdown",
      "source": [
        "Но давайте упростим себе задачу и возьмем для обучения только два класса, чтобы сделать задачу бинарной классификации."
      ],
      "metadata": {
        "id": "fLD43Qpf03eE"
      }
    },
    {
      "cell_type": "code",
      "source": [
        "idxs = np.where((y_train == 0) | (y_train == 1))\n",
        "y_train = y_train[idxs]\n",
        "X_train = X_train[idxs]\n",
        "\n",
        "X_train.shape, y_train.shape"
      ],
      "metadata": {
        "id": "NYS87lxP04ls"
      },
      "execution_count": null,
      "outputs": []
    },
    {
      "cell_type": "markdown",
      "source": [
        "И тоже самое для теста."
      ],
      "metadata": {
        "id": "4Z262R7s1JYL"
      }
    },
    {
      "cell_type": "code",
      "source": [
        "idxs = np.where((y_test == 0) | (y_test == 1))\n",
        "y_test = y_test[idxs]\n",
        "\n",
        "X_test = X_test[idxs]\n",
        "\n",
        "X_test.shape, y_test.shape"
      ],
      "metadata": {
        "id": "D-Ry9toq1KCm"
      },
      "execution_count": null,
      "outputs": []
    },
    {
      "cell_type": "markdown",
      "source": [
        "Убедимся, что теперь у нас только 0, либо 1."
      ],
      "metadata": {
        "id": "IWCfBLxl1PKD"
      }
    },
    {
      "cell_type": "code",
      "source": [
        "fig, ax = plt.subplots(1, 5, figsize=(15, 10))\n",
        "\n",
        "for i in range(5):\n",
        "    ax[i].imshow(X_train[i], cmap='gray')\n",
        "    ax[i].axis('off')"
      ],
      "metadata": {
        "id": "OyI4gRNQ1VFk"
      },
      "execution_count": null,
      "outputs": []
    },
    {
      "cell_type": "code",
      "source": [
        "y_train[:5]"
      ],
      "metadata": {
        "id": "-fflRqx73SPp"
      },
      "execution_count": null,
      "outputs": []
    },
    {
      "cell_type": "markdown",
      "source": [
        "Нормируем данные, сейчас обойдемся без MinMaxScaler из sklearn, а воспользуемся делением на 255, т.к. сейчас изображения представлены пикселями в диапазоне от 0 до 255, а для нейросети комфортней обучаться на диапазоне от 0 до 1."
      ],
      "metadata": {
        "id": "e98Pl6Fl3Vdt"
      }
    },
    {
      "cell_type": "code",
      "source": [
        "print(X_train.min(), X_train.max())\n",
        "\n",
        "X_train = X_train / 255.0\n",
        "X_test = X_test / 255.0\n",
        "\n",
        "print(X_train.min(), X_train.max())"
      ],
      "metadata": {
        "id": "ts3gs3sI3Z5i"
      },
      "execution_count": null,
      "outputs": []
    },
    {
      "cell_type": "markdown",
      "source": [
        "Так же нужно видоизменить метку класса, сейчас это лейблы 0 или 1, нужно преобразовать в бинарный вид.\n",
        "\n",
        "Тем самым получаем 2 столбика, где первый - это метка является ли изображение 0 классом, а второй столбик - является ли изображение 1 классом."
      ],
      "metadata": {
        "id": "wCyTTbIW3eVb"
      }
    },
    {
      "cell_type": "code",
      "source": [
        "from keras.utils import to_categorical\n",
        "\n",
        "y_train_cat = to_categorical(y_train)\n",
        "y_test_cat = to_categorical(y_test)\n",
        "\n",
        "y_train[:5]"
      ],
      "metadata": {
        "id": "imIoDK3A3g8b"
      },
      "execution_count": null,
      "outputs": []
    },
    {
      "cell_type": "markdown",
      "source": [
        "А чтобы еще легче обучать сетку поменяем масштаб изображений, сейчас они 28 на 28, сделаем меньше, чтобы нейросеть была легче."
      ],
      "metadata": {
        "id": "_3istUFk35sa"
      }
    },
    {
      "cell_type": "code",
      "source": [
        "X_train[..., np.newaxis].shape"
      ],
      "metadata": {
        "id": "14VPiE_h37Mr"
      },
      "execution_count": null,
      "outputs": []
    },
    {
      "cell_type": "code",
      "source": [
        "import matplotlib.pyplot as plt\n",
        "\n",
        "X_train_resized = tf.image.resize(X_train[..., np.newaxis], (6, 6))[..., 0]\n",
        "X_test_resized = tf.image.resize(X_test[..., np.newaxis], (6, 6))[..., 0]\n",
        "\n",
        "fig, ax = plt.subplots(1, 5, figsize=(15, 10))\n",
        "\n",
        "for i in range(5):\n",
        "    ax[i].imshow(X_train_resized[i], cmap='gray')\n",
        "    ax[i].axis('off')"
      ],
      "metadata": {
        "id": "ATnGRToU4A77"
      },
      "execution_count": null,
      "outputs": []
    },
    {
      "cell_type": "markdown",
      "source": [
        "Для того, что обучить нейронную сеть для любой задачи нужно ответить на три вопроса:\n",
        "1. Какая архитектура сети?\n",
        "2. Что оптимизируем?\n",
        "3. Как обучаем?"
      ],
      "metadata": {
        "id": "1leqjNMw48pG"
      }
    },
    {
      "cell_type": "markdown",
      "source": [
        "### Архитектура сети"
      ],
      "metadata": {
        "id": "v1qWctXE4-L9"
      }
    },
    {
      "cell_type": "markdown",
      "source": [
        "Создадим сеть еще сложнее.\n",
        "\n",
        "Во-первых, на вход поступает изображение 6х6, нужно с ним что-то сделать, так как наша сетку пока не умеет работать с двумерным входом. Здесь нам поможет слой из `keras` `Flatten`, который вытягивает изображение в один вектор, была картинка 6x6, а станет вектором с размерностью 36."
      ],
      "metadata": {
        "id": "9pos9Y9u5Bv7"
      }
    },
    {
      "cell_type": "markdown",
      "source": [
        "Во-вторых, на выходе не что-то одно, а две вероятности быть или не быть определенным классом.\n",
        "\n",
        "А значит на выходе имеем два нейрона, каждый из которых отвечает за класс."
      ],
      "metadata": {
        "id": "903-rkxr5Nli"
      }
    },
    {
      "cell_type": "markdown",
      "source": [
        "input_1 --> 0 --> proba 0\n",
        "\n",
        "input_2 --> 0 --> proba 1\n",
        "\n",
        "...\n",
        "\n",
        "input_36 -->"
      ],
      "metadata": {
        "id": "Gk39vmy55QQD"
      }
    },
    {
      "cell_type": "markdown",
      "source": [
        "В-третьих, на выходном слое нужно использовать другую функцию активации, а именно sigmoid, так как она позволяет решать задачу бинарной классификации очень хорошо."
      ],
      "metadata": {
        "id": "d7BAq6Yn5sCJ"
      }
    },
    {
      "cell_type": "code",
      "source": [
        "from keras.layers import Dense\n",
        "from keras.models import Sequential\n",
        "\n",
        "tf.random.set_seed(9)\n",
        "\n",
        "model = Sequential([\n",
        "    Flatten(input_shape=(6, 6)),\n",
        "    Dense(2, activation='sigmoid')\n",
        "])\n",
        "\n",
        "model.summary()"
      ],
      "metadata": {
        "id": "7Zz_Ua2D5tOI"
      },
      "execution_count": null,
      "outputs": []
    },
    {
      "cell_type": "markdown",
      "source": [
        "### Что оптимизируем\n",
        "\n",
        "У нас задача бинарной классификации, поэтому берем функцию потерь, которая подходит сюда.\n",
        "\n",
        "Это к примеру, бинарная кросс-энтропия."
      ],
      "metadata": {
        "id": "Jcc41wrm6vvC"
      }
    },
    {
      "cell_type": "code",
      "source": [
        "from keras.losses import binary_crossentropy\n",
        "from keras.optimizers import SGD\n",
        "\n",
        "\n",
        "optimizer = SGD(learning_rate=0.1)\n",
        "\n",
        "model.compile(optimizer=optimizer, loss=binary_crossentropy, metrics=['accuracy'])"
      ],
      "metadata": {
        "id": "Iq6G2Dyu6yi6"
      },
      "execution_count": null,
      "outputs": []
    },
    {
      "cell_type": "markdown",
      "source": [
        "### Как оптимизируем\n",
        "\n",
        "Возьмем тот же самый градиентный спуск со стохастикой."
      ],
      "metadata": {
        "id": "ikpJxVqd7j6g"
      }
    },
    {
      "cell_type": "code",
      "source": [
        "model.get_weights()"
      ],
      "metadata": {
        "id": "au_Q0ssJ7mqy"
      },
      "execution_count": null,
      "outputs": []
    },
    {
      "cell_type": "markdown",
      "source": [
        "Сделаем предсказания"
      ],
      "metadata": {
        "id": "Xk1hTMLt7sPh"
      }
    },
    {
      "cell_type": "code",
      "source": [
        "preds = model.predict(X_train_resized)\n",
        "preds"
      ],
      "metadata": {
        "id": "ukRYfCYg7tMp"
      },
      "execution_count": null,
      "outputs": []
    },
    {
      "cell_type": "markdown",
      "source": [
        "И берем метку класса, где максимальная вероятность."
      ],
      "metadata": {
        "id": "rb3cw0t772BQ"
      }
    },
    {
      "cell_type": "code",
      "source": [
        "preds_cls = preds.argmax(axis=1)\n",
        "preds_cls"
      ],
      "metadata": {
        "id": "RhQ0q5-072qo"
      },
      "execution_count": null,
      "outputs": []
    },
    {
      "cell_type": "code",
      "source": [
        "from sklearn.metrics import accuracy_score\n",
        "\n",
        "print(f'train acc: {accuracy_score(y_train, preds_cls)*100:.2f}% ({(y_train == preds_cls).sum()} out of {y_train.shape[0]})')"
      ],
      "metadata": {
        "id": "QAyZBVB-8A4Z"
      },
      "execution_count": null,
      "outputs": []
    },
    {
      "cell_type": "code",
      "source": [
        "for i in range(1):\n",
        "    with tf.GradientTape() as tape:\n",
        "        pred = model(X_train_resized)\n",
        "\n",
        "        loss_value = binary_crossentropy(y_train_cat, pred)\n",
        "\n",
        "        grads = tape.gradient(loss_value, model.trainable_weights)\n",
        "        print('Grad are', grads)\n",
        "        print('_' * 40)\n",
        "\n",
        "    optimizer.apply_gradients(zip(grads, model.trainable_weights))"
      ],
      "metadata": {
        "id": "w9F-iVBJ8Lf5"
      },
      "execution_count": null,
      "outputs": []
    },
    {
      "cell_type": "markdown",
      "source": [
        "Сделаем предсказания"
      ],
      "metadata": {
        "id": "E3hLrQ7D8S-4"
      }
    },
    {
      "cell_type": "code",
      "source": [
        "preds = model.predict(X_train_resized)\n",
        "preds"
      ],
      "metadata": {
        "id": "zvDR-x7U8Tmo"
      },
      "execution_count": null,
      "outputs": []
    },
    {
      "cell_type": "markdown",
      "source": [
        "И берем метку класса, где максимальная вероятность."
      ],
      "metadata": {
        "id": "uVq1cDnq8fD5"
      }
    },
    {
      "cell_type": "code",
      "source": [
        "preds_cls = preds.argmax(axis=1)\n",
        "preds_cls"
      ],
      "metadata": {
        "id": "PVQkPQ3j8d65"
      },
      "execution_count": null,
      "outputs": []
    },
    {
      "cell_type": "code",
      "source": [
        "from sklearn.metrics import accuracy_score\n",
        "\n",
        "print(f'train acc: {accuracy_score(y_train, preds_cls)*100:.2f}% ({(y_train == preds_cls).sum()} out of {y_train.shape[0]})')"
      ],
      "metadata": {
        "id": "cKSMYOrb8pCY"
      },
      "execution_count": null,
      "outputs": []
    },
    {
      "cell_type": "markdown",
      "source": [
        "Еще одну итерацию проведем"
      ],
      "metadata": {
        "id": "LsUYvtHj8uWJ"
      }
    },
    {
      "cell_type": "code",
      "source": [
        "for i in range(1):\n",
        "    with tf.GradientTape() as tape:\n",
        "        pred = model(X_train_resized)\n",
        "\n",
        "        loss_value = binary_crossentropy(y_train_cat, pred)\n",
        "\n",
        "        grads = tape.gradient(loss_value, model.trainable_weights)\n",
        "\n",
        "    optimizer.apply_gradients(zip(grads, model.trainable_weights))"
      ],
      "metadata": {
        "id": "PypskFbC8vpy"
      },
      "execution_count": null,
      "outputs": []
    },
    {
      "cell_type": "markdown",
      "source": [
        "Сделаем предсказания"
      ],
      "metadata": {
        "id": "y-4_zzON83za"
      }
    },
    {
      "cell_type": "code",
      "source": [
        "preds = model.predict(X_train_resized)\n",
        "preds"
      ],
      "metadata": {
        "id": "JXtDbqRN84qB"
      },
      "execution_count": null,
      "outputs": []
    },
    {
      "cell_type": "markdown",
      "source": [
        "И берем метку класса, где максимальная вероятность."
      ],
      "metadata": {
        "id": "ae9g_0PL9Ad4"
      }
    },
    {
      "cell_type": "code",
      "source": [
        "preds_cls = preds.argmax(axis=1)\n",
        "preds_cls"
      ],
      "metadata": {
        "id": "OadYiewd9B0I"
      },
      "execution_count": null,
      "outputs": []
    },
    {
      "cell_type": "code",
      "source": [
        "print(f'train acc: {accuracy_score(y_train, preds_cls)*100:.2f}% ({(y_train == preds_cls).sum()} out of {y_train.shape[0]})')"
      ],
      "metadata": {
        "id": "QeNu0EPE9IEo"
      },
      "execution_count": null,
      "outputs": []
    },
    {
      "cell_type": "markdown",
      "source": [
        "Сравним предсказания для тестовых данных"
      ],
      "metadata": {
        "id": "VX-GwWP-9MXQ"
      }
    },
    {
      "cell_type": "code",
      "source": [
        "preds = model.predict(X_test_resized)\n",
        "preds"
      ],
      "metadata": {
        "id": "7XHy4Zk39NZQ"
      },
      "execution_count": null,
      "outputs": []
    },
    {
      "cell_type": "markdown",
      "source": [
        "И берем метку класса, где максимальная вероятность."
      ],
      "metadata": {
        "id": "ctkni-3P9UTw"
      }
    },
    {
      "cell_type": "code",
      "source": [
        "preds_cls = preds.argmax(axis=1)\n",
        "preds_cls"
      ],
      "metadata": {
        "id": "lY5NhJTY9VTI"
      },
      "execution_count": null,
      "outputs": []
    },
    {
      "cell_type": "code",
      "source": [
        "print(f'test acc: {accuracy_score(y_test, preds_cls)*100:.2f}% ({(y_test == preds_cls).sum()} out of {y_test.shape[0]})')"
      ],
      "metadata": {
        "id": "52KHFKnR9aE3"
      },
      "execution_count": null,
      "outputs": []
    },
    {
      "cell_type": "markdown",
      "source": [
        "И благо можем не руками проводить обучение, а пользоваться методом fit в keras\n",
        "\n",
        "Можем одновременно прогонять модель на обучающих данных, на которых будут меняться веса и на тестовых, чтобы проверять качество работы сети."
      ],
      "metadata": {
        "id": "elRiuij59eA_"
      }
    },
    {
      "cell_type": "code",
      "source": [
        "%%time\n",
        "model.fit(X_train_resized, y_train_cat,\n",
        "          validation_data=(X_test_resized, y_test_cat),\n",
        "          epochs=1)"
      ],
      "metadata": {
        "id": "TEV9Llp09e0w"
      },
      "execution_count": null,
      "outputs": []
    },
    {
      "cell_type": "markdown",
      "source": [
        "## Summary\n",
        "\n",
        "Сегодня обсудили:\n",
        "1. Для чего нужен градиентный спуск\n",
        "    - GD - это метод оптимизации\n",
        "    - Нужен для обучения нейронных сетей\n",
        "2. Что такое градиент\n",
        "    - Вектор, показывающий направление наискорейшего роста\n",
        "3. Как написать свой градиентный спуск\n",
        "    1. Инициализация начальной точки\n",
        "    2. Цикл по k = 1,2,3,...:\n",
        "$$ w_{k} = w_{k-1} - \\eta\\nabla f(w_{k-1}) $$\n"
      ],
      "metadata": {
        "id": "vxLMe7409t3Q"
      }
    }
  ],
  "metadata": {
    "colab": {
      "private_outputs": true,
      "toc_visible": true,
      "provenance": [],
      "include_colab_link": true
    },
    "kernelspec": {
      "display_name": "Python 3",
      "name": "python3"
    },
    "language_info": {
      "name": "python"
    }
  },
  "nbformat": 4,
  "nbformat_minor": 0
}