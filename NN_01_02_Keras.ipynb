{
  "cells": [
    {
      "cell_type": "markdown",
      "metadata": {
        "id": "view-in-github",
        "colab_type": "text"
      },
      "source": [
        "<a href=\"https://colab.research.google.com/github/Sergey-Kiselev-dev/NN_01_Keras/blob/main/NN_01_02_Keras.ipynb\" target=\"_parent\"><img src=\"https://colab.research.google.com/assets/colab-badge.svg\" alt=\"Open In Colab\"/></a>"
      ]
    },
    {
      "cell_type": "markdown",
      "source": [
        "Первая нейронная сеть на Keras\n",
        "===\n",
        "Сегодня обсудим:\n",
        "\n",
        "1. Как создать нейронную сеть в Keras\n",
        "2. Как обучить нейронную сеть в Keras\n",
        "\n",
        "И сегодня обучим три нейронные сети для решения задач:\n",
        "\n",
        "1. Нейрон для умножения\n",
        "2. Нейросеть для сложения\n",
        "3. Нейросеть для классификации изображений\n",
        "\n",
        "Давайте создадим нейронную сеть, состоящую из одного нейрона.\n",
        "\n",
        "input --> 0 --> output\n",
        "\n",
        "1. Sequential - это класс последовательности слоев в нейронной сети, у нас пока будет только один слой, но сюда можно добавлять сколь угодно слоев и это будет сеть, состоящая из последовательности слоев.\n",
        "2. Dense - это класс полносвязного/линейного слоя, все нейроны связаны друг с другом.\n",
        "3. units=1 - это количество нейронов в слое. У нас 1 нейрон.\n",
        "4. input_shape=(1,) - это входная размерность объекта. У нас только 1 вход.\n",
        "5. activation='relu' - это функция активации, которая добавляет в слой нелинейности, именно из-за неё мы можем получать более сложные результаты работы сети."
      ],
      "metadata": {
        "id": "-U3BKVzdbaeG"
      }
    },
    {
      "cell_type": "code",
      "source": [
        "from keras.layers import Dense\n",
        "from keras.models import Sequential\n",
        "\n",
        "model = Sequential([\n",
        "    Dense(1, input_shape=(1,), activation='relu')\n",
        "])\n",
        "\n",
        "model.summary()"
      ],
      "metadata": {
        "id": "boask5Huq65z"
      },
      "execution_count": null,
      "outputs": []
    },
    {
      "cell_type": "code",
      "source": [
        "# for reproducible weights initialization\n",
        "import tensorflow as tf\n",
        "tf.random.set_seed(1)"
      ],
      "metadata": {
        "id": "QVzJmhTwrScD"
      },
      "execution_count": null,
      "outputs": []
    },
    {
      "cell_type": "code",
      "source": [
        "import tensorflow as tf\n",
        "tf.random.set_seed(1)\n",
        "\n",
        "model = Sequential([\n",
        "    Dense(1, input_shape=(1,), activation='relu')\n",
        "])\n",
        "\n",
        "model.get_weights()"
      ],
      "metadata": {
        "id": "B-t4sVfRrXEy"
      },
      "execution_count": null,
      "outputs": []
    },
    {
      "cell_type": "code",
      "source": [
        "import numpy as np\n",
        "\n",
        "X = np.array([[1], [3], [2], [10], [4], [7], [8]])\n",
        "y = np.array([[3, 9, 6, 30, 12, 21, 24]]).T"
      ],
      "metadata": {
        "id": "HBKnxfZfrdXp"
      },
      "execution_count": null,
      "outputs": []
    },
    {
      "cell_type": "code",
      "source": [
        "from keras.layers import Dense\n",
        "from keras.models import Sequential\n",
        "\n",
        "model = Sequential([\n",
        "    Dense(1, input_shape=(1,), activation='linear')\n",
        "])\n",
        "\n",
        "model.summary()"
      ],
      "metadata": {
        "id": "nrtBDkbJrkXi"
      },
      "execution_count": null,
      "outputs": []
    },
    {
      "cell_type": "code",
      "source": [
        "w1, w0 = model.get_weights()\n",
        "w1, w0"
      ],
      "metadata": {
        "id": "HtDzOVbHrpDK"
      },
      "execution_count": null,
      "outputs": []
    },
    {
      "cell_type": "code",
      "source": [
        "X[:-1]"
      ],
      "metadata": {
        "id": "DwdR79EJrvIi"
      },
      "execution_count": null,
      "outputs": []
    },
    {
      "cell_type": "code",
      "source": [
        "model.predict(X[:1])"
      ],
      "metadata": {
        "id": "VanQWXc84h-F"
      },
      "execution_count": null,
      "outputs": []
    },
    {
      "cell_type": "code",
      "source": [
        "w1 * X[:1] + w0"
      ],
      "metadata": {
        "id": "jn0SEuUW4mS9"
      },
      "execution_count": null,
      "outputs": []
    },
    {
      "cell_type": "code",
      "source": [
        "from keras.activations import linear\n",
        "linear(w1 * X[:1] + w0)"
      ],
      "metadata": {
        "id": "5zpy2GW34vZV"
      },
      "execution_count": null,
      "outputs": []
    },
    {
      "cell_type": "code",
      "source": [
        "import keras\n",
        "model.compile(optimizer='sgd', loss='mse', metrics=[keras.metrics.CategoricalAccuracy()])"
      ],
      "metadata": {
        "id": "U08y2-GH49L7"
      },
      "execution_count": null,
      "outputs": []
    },
    {
      "cell_type": "code",
      "source": [
        "%%time\n",
        "model.fit(X, y, epochs=100)"
      ],
      "metadata": {
        "id": "Q-GRKaIw5IMM"
      },
      "execution_count": null,
      "outputs": []
    },
    {
      "cell_type": "code",
      "source": [
        "user_inp1, user_inp2 = 5, -9\n",
        "print(f\"Проверка на новых данных: {user_inp1} {user_inp2}\")\n",
        "print(\"Предсказание нейронной сети: \")\n",
        "print(model.predict(np.array([[user_inp1], [user_inp2]])))"
      ],
      "metadata": {
        "id": "uwoCuSbN9j5c"
      },
      "execution_count": null,
      "outputs": []
    },
    {
      "cell_type": "code",
      "source": [
        "nw1, nw0 = model.get_weights()\n",
        "print('w1 before', w1, 'w1 after', nw1)\n",
        "print('w0 before', w0, 'w0 after', nw0)"
      ],
      "metadata": {
        "id": "va5p2QNd9qes"
      },
      "execution_count": null,
      "outputs": []
    },
    {
      "cell_type": "code",
      "source": [
        "import pandas as pd\n",
        "\n",
        "pd.DataFrame({\n",
        "   'true': np.squeeze(y),\n",
        "   'pred': np.squeeze(model.predict(X))\n",
        "})"
      ],
      "metadata": {
        "id": "sTESU83L9u6y"
      },
      "execution_count": null,
      "outputs": []
    },
    {
      "cell_type": "markdown",
      "source": [
        "Сеть для сложения чисел\n",
        "==========="
      ],
      "metadata": {
        "id": "0LNJePCRKbHe"
      }
    },
    {
      "cell_type": "code",
      "source": [
        "X1 = np.random.randint(1, 10, size=50)\n",
        "X2 = np.random.randint(1, 10, size=50)\n",
        "\n",
        "y = X1 + X2"
      ],
      "metadata": {
        "id": "7xW43bUUKduF"
      },
      "execution_count": null,
      "outputs": []
    },
    {
      "cell_type": "code",
      "source": [
        "X = np.vstack([X1, X2]).T\n",
        "X"
      ],
      "metadata": {
        "id": "mxnQICB3Km3c"
      },
      "execution_count": null,
      "outputs": []
    },
    {
      "cell_type": "code",
      "source": [
        "y = y[None]\n",
        "y = y.T\n",
        "y"
      ],
      "metadata": {
        "id": "htIJlataK0Y-"
      },
      "execution_count": null,
      "outputs": []
    },
    {
      "cell_type": "code",
      "source": [
        "from sklearn.preprocessing import MinMaxScaler\n",
        "\n",
        "mms = MinMaxScaler()\n",
        "X_norm = mms.fit_transform(X)"
      ],
      "metadata": {
        "id": "-9YD3wGbLWvL"
      },
      "execution_count": null,
      "outputs": []
    },
    {
      "cell_type": "markdown",
      "source": [
        "Для того, что обучить нейронную сеть для любой задачи нужно ответить на три вопроса:\n",
        "\n",
        "1. Какая архитектура сети?\n",
        "\n",
        "2. Что оптимизируем?\n",
        "\n",
        "3. Как обучаем?\n",
        "\n",
        "Какая архитектура сети\n",
        "------------\n",
        "Создадим сеть посложнее, она будет состоять уже из двух слоев, чтобы быстрее обучалась. В одном слое 3 нейрона, а в выходном слое 1 нейрон.\n",
        "\n",
        "input_1 --> 0 -->\n",
        "\n",
        "            0 --> 0 Output\n",
        "\n",
        "input_2 --> 0 -->"
      ],
      "metadata": {
        "id": "goNx5ojYNVBD"
      }
    },
    {
      "cell_type": "code",
      "source": [
        "from keras.layers import Dense\n",
        "from keras.models import Sequential\n",
        "tf.random.set_seed(9)\n",
        "\n",
        "model = Sequential([\n",
        "    Dense(3, input_shape=(2,), activation='linear'),\n",
        "    Dense(1, activation='linear')\n",
        "])\n",
        "\n",
        "model.summary()"
      ],
      "metadata": {
        "id": "w3LefBIHLkGc"
      },
      "execution_count": null,
      "outputs": []
    },
    {
      "cell_type": "markdown",
      "source": [
        "Что здесь происходит с весами и с самой архитектурой?\n",
        "\n",
        "Количество весов для одного нейрона равно 2, т.к. два входа поступает, а вдобавок у каждого нейрона есть 1 bias, на первом слое 3 нейрона, значит суммарно весов на первом слое будет 9.\n",
        "\n",
        "Второй слой ждет на вход 3 сигнала, еще 1 bias.\n",
        "\n",
        "Получаем 9 + 4 = 13 обучаемых весов."
      ],
      "metadata": {
        "id": "fRRTG1F4MRsq"
      }
    },
    {
      "cell_type": "code",
      "source": [
        "model.get_weights()"
      ],
      "metadata": {
        "id": "qpXm5YaVL9Al"
      },
      "execution_count": null,
      "outputs": []
    },
    {
      "cell_type": "markdown",
      "source": [
        "Что оптимизируем\n",
        "---\n",
        "Снова задача регрессии, поэтому берем функцию потерь MSE.\n",
        "\n",
        "Как оптимизируем\n",
        "---\n",
        "Возьмем тот же самый градиентный спуск со стохастикой."
      ],
      "metadata": {
        "id": "Mu_eEc9HOp-o"
      }
    },
    {
      "cell_type": "code",
      "source": [
        "model.compile(optimizer='sgd', loss='mse', metrics=[keras.metrics.CategoricalAccuracy()])"
      ],
      "metadata": {
        "id": "jNMr26f_Oz0H"
      },
      "execution_count": null,
      "outputs": []
    },
    {
      "cell_type": "code",
      "source": [
        "%%time\n",
        "model.fit(X_norm, y, epochs=200)"
      ],
      "metadata": {
        "id": "UXbasinvPGsR"
      },
      "execution_count": null,
      "outputs": []
    },
    {
      "cell_type": "markdown",
      "source": [
        "Сеть обучается, ошибка падает, метрика становится лучше, всё замечательно.\n",
        "\n",
        "Теперь проверим, а как модель работает на новых данных."
      ],
      "metadata": {
        "id": "NNIco_JKP6P0"
      }
    },
    {
      "cell_type": "code",
      "source": [
        "test_X = [[4, 2],\n",
        "          [6, 2]]\n",
        "test_X = mms.transform(test_X)\n",
        "print(\"Предсказание нейронной сети: \")\n",
        "print(model.predict(np.array(test_X)))"
      ],
      "metadata": {
        "id": "7U0qScUAP710"
      },
      "execution_count": null,
      "outputs": []
    },
    {
      "cell_type": "markdown",
      "source": [
        "Предсказания очень похожи на истину.\n",
        "\n",
        "И проверимся на всех обучающих данных."
      ],
      "metadata": {
        "id": "psJRuuhAQYTl"
      }
    },
    {
      "cell_type": "code",
      "source": [
        "import pandas as pd\n",
        "\n",
        "pd.DataFrame({\n",
        "    'x1': X[:, 0],\n",
        "    'x2': X[:, 1],\n",
        "    'true': np.squeeze(y),\n",
        "    'pred': np.squeeze(model.predict(X_norm))\n",
        "}).head(10)"
      ],
      "metadata": {
        "id": "uWCefrjqQZn0"
      },
      "execution_count": null,
      "outputs": []
    },
    {
      "cell_type": "markdown",
      "source": [
        "Сеть для классификации изображений\n",
        "===\n",
        "Подгрузим данные из стандартных датасетов из keras.\n",
        "\n",
        "Датасет называется MNIST и представляет из себя черно-белые изображения 28 на 28 пикселей."
      ],
      "metadata": {
        "id": "YVvzigYhQijV"
      }
    },
    {
      "cell_type": "code",
      "source": [
        "from keras.datasets import mnist\n",
        "\n",
        "(X_train, y_train), (X_test, y_test) = mnist.load_data()\n",
        "\n",
        "X_train.shape, X_test.shape"
      ],
      "metadata": {
        "id": "WWMIjEoGQqD5"
      },
      "execution_count": null,
      "outputs": []
    },
    {
      "cell_type": "code",
      "source": [
        "X_train[0].shape"
      ],
      "metadata": {
        "id": "JfnT1eHKQvf5"
      },
      "execution_count": null,
      "outputs": []
    },
    {
      "cell_type": "code",
      "source": [
        "import matplotlib.pyplot as plt\n",
        "\n",
        "fig, ax = plt.subplots(1, 5, figsize=(15, 10))\n",
        "\n",
        "for i in range(5):\n",
        "    ax[i].imshow(X_train[i], cmap='gray')\n",
        "    ax[i].axis('off')"
      ],
      "metadata": {
        "id": "0t1iOFTTQ4_l"
      },
      "execution_count": null,
      "outputs": []
    },
    {
      "cell_type": "code",
      "source": [
        "y_train[:5]"
      ],
      "metadata": {
        "id": "CDVSa8ztRODx"
      },
      "execution_count": null,
      "outputs": []
    },
    {
      "cell_type": "markdown",
      "source": [
        "Но давайте упростим себе задачу и возьмем для обучения только два класса, чтобы сделать задачу бинарной классификации."
      ],
      "metadata": {
        "id": "if3oo8tRRTCe"
      }
    },
    {
      "cell_type": "code",
      "source": [
        "X_train.shape, y_train.shape"
      ],
      "metadata": {
        "id": "1fWNG7AyS4RL"
      },
      "execution_count": null,
      "outputs": []
    },
    {
      "cell_type": "code",
      "source": [
        "X_test.shape, y_test.shape"
      ],
      "metadata": {
        "id": "L89N4hCLTHRC"
      },
      "execution_count": null,
      "outputs": []
    },
    {
      "cell_type": "code",
      "source": [
        "idxs = np.where((y_train == 0) | (y_train == 1))\n",
        "idxs"
      ],
      "metadata": {
        "id": "9bDh3WG4TXi8"
      },
      "execution_count": null,
      "outputs": []
    },
    {
      "cell_type": "code",
      "source": [
        "idxs = np.where((y_train == 0) | (y_train == 1))\n",
        "y_train = y_train[idxs]\n",
        "X_train = X_train[idxs]\n",
        "X_train.shape, y_train.shape"
      ],
      "metadata": {
        "id": "LavQG1_FRVKe"
      },
      "execution_count": null,
      "outputs": []
    },
    {
      "cell_type": "markdown",
      "source": [
        "И тоже самое для теста."
      ],
      "metadata": {
        "id": "uA1KohioRoCq"
      }
    },
    {
      "cell_type": "code",
      "source": [
        "idxs = np.where((y_test == 0) | (y_test == 1))\n",
        "y_test = y_test[idxs]\n",
        "X_test = X_test[idxs]\n",
        "X_test.shape, y_test.shape"
      ],
      "metadata": {
        "id": "m0fiLC4ZRoyr"
      },
      "execution_count": null,
      "outputs": []
    },
    {
      "cell_type": "markdown",
      "source": [
        "Убедимся, что теперь у нас только 0, либо 1"
      ],
      "metadata": {
        "id": "mt7m15R_RwRd"
      }
    },
    {
      "cell_type": "code",
      "source": [
        "fig, ax = plt.subplots(1, 5, figsize=(15, 10))\n",
        "\n",
        "for i in range(5):\n",
        "    ax[i].imshow(X_train[i], cmap='gray')\n",
        "    ax[i].axis('off')"
      ],
      "metadata": {
        "id": "cfeppY7CRxGu"
      },
      "execution_count": null,
      "outputs": []
    },
    {
      "cell_type": "code",
      "source": [
        "y_train[:5]"
      ],
      "metadata": {
        "id": "gQwhbKGnSlG5"
      },
      "execution_count": null,
      "outputs": []
    },
    {
      "cell_type": "markdown",
      "source": [
        "Нормируем данные, сейчас обойдемся без MinMaxScaler из sklearn, а воспользуемся делением на 255, т.к. сейчас изображения представлены пикселями в диапазоне от 0 до 255, а для нейросети комфортней обучаться на диапазоне от 0 до 1."
      ],
      "metadata": {
        "id": "eSw6FZc2UKpb"
      }
    },
    {
      "cell_type": "code",
      "source": [
        "print(X_train.min(), X_train.max())\n",
        "\n",
        "X_train = X_train / 255.0\n",
        "X_test = X_test / 255.0\n",
        "\n",
        "print(X_train.min(), X_train.max())"
      ],
      "metadata": {
        "id": "x4cfPJqsUNT-"
      },
      "execution_count": null,
      "outputs": []
    },
    {
      "cell_type": "markdown",
      "source": [
        "Так же нужно видоизменить метку класса, сейчас это лейблы 0 или 1, нужно преобразовать в бинарный вид.\n",
        "\n",
        "Тем самым получаем 2 столбика, где первый - это метка является ли изображение 0 классом, а второй столбик - является ли изображение 1 классом."
      ],
      "metadata": {
        "id": "bBiWw274Uhu4"
      }
    },
    {
      "cell_type": "code",
      "source": [
        "from keras.utils import to_categorical\n",
        "\n",
        "y_train_cat = to_categorical(y_train)\n",
        "y_test_cat = to_categorical(y_test)\n",
        "\n",
        "y_train[:5]"
      ],
      "metadata": {
        "id": "pYmcWEDVU5jJ"
      },
      "execution_count": null,
      "outputs": []
    },
    {
      "cell_type": "markdown",
      "source": [
        "А чтобы еще легче обучать сетку поменяем масштаб изображений, сейчас они 28 на 28, сделаем меньше, чтобы нейросеть была легче."
      ],
      "metadata": {
        "id": "h_a6wT9yViib"
      }
    },
    {
      "cell_type": "code",
      "source": [
        "X_train[..., np.newaxis].shape"
      ],
      "metadata": {
        "id": "sETPOuonVjks"
      },
      "execution_count": null,
      "outputs": []
    },
    {
      "cell_type": "code",
      "source": [
        "import matplotlib.pyplot as plt\n",
        "\n",
        "X_train_resized = tf.image.resize(X_train[..., np.newaxis], (6, 6))[..., 0]\n",
        "X_test_resized = tf.image.resize(X_test[..., np.newaxis], (6, 6))[..., 0]\n",
        "\n",
        "fig, ax = plt.subplots(1, 5, figsize=(15, 10))\n",
        "\n",
        "for i in range(5):\n",
        "    ax[i].imshow(X_train_resized[i], cmap='gray')\n",
        "    ax[i].axis('off')"
      ],
      "metadata": {
        "id": "ZYnvswJYVtdi"
      },
      "execution_count": null,
      "outputs": []
    },
    {
      "cell_type": "markdown",
      "source": [
        "Для того, что обучить нейронную сеть для любой задачи нужно ответить на три вопроса:\n",
        "\n",
        "1. Какая архитектура сети?\n",
        "2. Что оптимизируем?\n",
        "3. Как обучаем?\n",
        "\n",
        "Какая архитектура сети\n",
        "---\n",
        "Создадим сеть еще сложнее.\n",
        "\n",
        "Во-первых, на вход поступает изображение 6х6, нужно с ним что-то сделать, так как наша сетку пока не умеет работать с двумерным входом. Здесь нам поможет слой из keras Flatten, который вытягивает изображение в один вектор, была картинка 6x6, а станет вектором с размерностью 36.\n",
        "\n",
        "Была матрица:"
      ],
      "metadata": {
        "id": "jLJz2wo7V1Tk"
      }
    },
    {
      "cell_type": "code",
      "source": [
        "X_train_resized[0].numpy()"
      ],
      "metadata": {
        "id": "4WwhdjFtWSjg"
      },
      "execution_count": null,
      "outputs": []
    },
    {
      "cell_type": "code",
      "source": [
        "X_train_resized[0].numpy().shape"
      ],
      "metadata": {
        "id": "sA3t-ttwWYGd"
      },
      "execution_count": null,
      "outputs": []
    },
    {
      "cell_type": "markdown",
      "source": [
        "А теперь вектор:"
      ],
      "metadata": {
        "id": "7PBK3u3RWbeN"
      }
    },
    {
      "cell_type": "code",
      "source": [
        "X_train_resized[0].numpy().flatten()"
      ],
      "metadata": {
        "id": "FYeUYJTeWcyt"
      },
      "execution_count": null,
      "outputs": []
    },
    {
      "cell_type": "code",
      "source": [
        "X_train_resized[0].numpy().flatten().shape"
      ],
      "metadata": {
        "id": "kMXSxstrWnBz"
      },
      "execution_count": null,
      "outputs": []
    },
    {
      "cell_type": "markdown",
      "source": [
        "Во-вторых, на выходе не что-то одно, а две вероятности быть или не быть определенным классом.\n",
        "\n",
        "А значит на выходе имеем два нейрона, каждый из которых отвечает за класс.\n",
        "\n",
        "input_1 -->\n",
        "\n",
        "input_2 -->  0  proba 0\n",
        "\n",
        "imput_3 -->  1  proba 1\n",
        "\n",
        "...      \n",
        "\n",
        "input_36 -->\n",
        "\n",
        "В-третьих, на выходном слое нужно использовать другую функцию активации, а именно sigmoid, так как она позволяет решать задачу бинарной классификации очень хорошо."
      ],
      "metadata": {
        "id": "VrCvLxWBWq2z"
      }
    },
    {
      "cell_type": "code",
      "source": [
        "from keras.layers import Flatten\n",
        "tf.random.set_seed(9)\n",
        "\n",
        "model = Sequential([\n",
        "    Flatten(input_shape=(6, 6)),\n",
        "    Dense(2, activation='sigmoid')\n",
        "])\n",
        "\n",
        "model.summary()"
      ],
      "metadata": {
        "id": "z5E7fJiqXbJw"
      },
      "execution_count": null,
      "outputs": []
    },
    {
      "cell_type": "markdown",
      "source": [
        "Считаем количество весов.\n",
        "\n",
        "Для одного нейрона - 36 входов, плюс 1 bias. Для второго нейрона тоже самое.\n",
        "\n",
        "А значит, (36 + 1) * 2 = 74 настраиваемых весов.\n",
        "\n",
        "Что оптимизируем\n",
        "---\n",
        "У нас задача бинарной классификации, поэтому берем функцию потерь, которая подходит сюда.\n",
        "\n",
        "Это к примеру, бинарная кросс-энтропия.\n",
        "\n",
        "А еще будем считать метрику классификации accuracy, если требуется вспомнить метрики качества для классификации, то советую вам посмотреть данный плейлист."
      ],
      "metadata": {
        "id": "wTVSkPgrXxAi"
      }
    },
    {
      "cell_type": "markdown",
      "source": [
        "Как оптимизируем\n",
        "---\n",
        "Возьмем тот же самый градиентный спуск со стохастикой."
      ],
      "metadata": {
        "id": "L89WXOHfYF1Z"
      }
    },
    {
      "cell_type": "code",
      "source": [
        "model.compile(optimizer='sgd', loss='binary_crossentropy', metrics=[keras.metrics.CategoricalAccuracy()])"
      ],
      "metadata": {
        "id": "2EC6CzlaYMDp"
      },
      "execution_count": null,
      "outputs": []
    },
    {
      "cell_type": "code",
      "source": [
        "%%time\n",
        "model.fit(X_train_resized, y_train_cat, epochs=5)"
      ],
      "metadata": {
        "id": "cMuRg3wzYffe"
      },
      "execution_count": null,
      "outputs": []
    },
    {
      "cell_type": "markdown",
      "source": [
        "Сеть обучается, ошибка падает, метрика становится лучше, всё замечательно.\n",
        "\n",
        "Теперь проверим, а как модель работает на новых данных.\n",
        "\n",
        "На выходе модель дает 2 вероятности:\n",
        "\n",
        "1. Быть нулевым классом\n",
        "2. Быть первым классом\n",
        "\n",
        "Для выбранного объекта вероятность быть первым классом гораздо выше, чем вероятность быть нулевым классом."
      ],
      "metadata": {
        "id": "tifjgC3VYqCX"
      }
    },
    {
      "cell_type": "code",
      "source": [
        "print(\"Предсказание нейронной сети: \")\n",
        "pred = model.predict(X_test_resized[:1])\n",
        "pred"
      ],
      "metadata": {
        "id": "2t2gXYipY1jk"
      },
      "execution_count": null,
      "outputs": []
    },
    {
      "cell_type": "markdown",
      "source": [
        "Для того, чтобы выдать финальную метку класса можем взять класс, где максимальная предсказанная вероятность."
      ],
      "metadata": {
        "id": "oSEdvVavY8dy"
      }
    },
    {
      "cell_type": "code",
      "source": [
        "pred_cls = pred.argmax()\n",
        "pred_cls"
      ],
      "metadata": {
        "id": "UB6MCqPHY_oD"
      },
      "execution_count": null,
      "outputs": []
    },
    {
      "cell_type": "markdown",
      "source": [
        "Давайте проверим предсказание визуально."
      ],
      "metadata": {
        "id": "YsuBDudQZEED"
      }
    },
    {
      "cell_type": "code",
      "source": [
        "idx = 0\n",
        "plt.imshow(X_test_resized[idx])\n",
        "plt.title(f'pred {pred_cls}, true {y_test[idx]}');"
      ],
      "metadata": {
        "id": "Z-hgfN7WZFD8"
      },
      "execution_count": null,
      "outputs": []
    },
    {
      "cell_type": "markdown",
      "source": [
        "А это как выглядило изображение до изменения размера."
      ],
      "metadata": {
        "id": "4NoS2YhQZMRZ"
      }
    },
    {
      "cell_type": "code",
      "source": [
        "plt.imshow(X_test[idx])\n",
        "plt.title(f'pred {pred_cls}, true {y_test[idx]}');"
      ],
      "metadata": {
        "id": "LDEhWgzqZNVq"
      },
      "execution_count": null,
      "outputs": []
    },
    {
      "cell_type": "markdown",
      "source": [
        "И проверимся на всех обучающих данных.\n",
        "\n",
        "Делаем предсказания на всех тестовых объектах."
      ],
      "metadata": {
        "id": "LjtXAiHaZTUy"
      }
    },
    {
      "cell_type": "code",
      "source": [
        "preds = model.predict(X_test_resized)\n",
        "preds"
      ],
      "metadata": {
        "id": "6xlVC4_5ZWtx"
      },
      "execution_count": null,
      "outputs": []
    },
    {
      "cell_type": "markdown",
      "source": [
        "И берем метку класса, где максимальная вероятность."
      ],
      "metadata": {
        "id": "AS-WodzPZayv"
      }
    },
    {
      "cell_type": "code",
      "source": [
        "preds_cls = preds.argmax(axis=1)\n",
        "preds_cls"
      ],
      "metadata": {
        "id": "ThKMsVpEZgD4"
      },
      "execution_count": null,
      "outputs": []
    },
    {
      "cell_type": "markdown",
      "source": [
        "И можем посчитать метрику качества."
      ],
      "metadata": {
        "id": "EARjUi11Zjza"
      }
    },
    {
      "cell_type": "code",
      "source": [
        "from sklearn.metrics import accuracy_score\n",
        "\n",
        "print(f'test acc: {accuracy_score(y_test, preds_cls)*100:.2f}% ({(y_test == preds_cls).sum()} out of {y_test.shape[0]})')"
      ],
      "metadata": {
        "id": "O_vbN4tMZlFx"
      },
      "execution_count": null,
      "outputs": []
    },
    {
      "cell_type": "markdown",
      "source": [
        "Вот так вот мы и обучили сетку на задачу классификации.\n",
        "\n",
        "А на самом деле уже обучили целых три нейронных сети за одно занятие.\n",
        "\n",
        "Практика\n",
        "---\n",
        "Практика доступна на платформе boosty https://boosty.to/machine_learrrning/posts/f0bea364-3056-4c84-96d0-5586dea90d72\n",
        "\n",
        "Доступна\n",
        "\n",
        "1. по подписке уровня light+ и выше\n",
        "2. разовая оплата\n",
        "\n",
        "Summary\n",
        "---\n",
        "Вот мы и разобрались, как обучается нейронная сеть с помощью keras.\n",
        "\n",
        "Получаем выборку для обучения\n",
        "---\n",
        "1. масштабирование данных (MinMaxScaler, StandardScaler, /255.0)\n",
        "2. Resize данных при необходимости\n",
        "3. Для классификации нужно перевести метки классов в бинарное представление\n",
        "\n",
        "Создаем архитектуру\n",
        "---\n",
        "1. выбираем количество входов\n",
        "2. выбираем количество слоев\n",
        "3. выбираем количество выходных нейронов\n",
        "4. выбираем функцию активации\n",
        "\n",
        "Что нужно оптимизировать\n",
        "---\n",
        "1. выбор функции потерь\n",
        "2. из стандартных и привычных\n",
        "для регрессии - MSE\n",
        "для классификации - binary_crossentropy, categorical_crossentropy\n",
        "\n",
        "Как нужно оптимизировать\n",
        "---\n",
        "1. выбор оптимизатора\n",
        "2. из стандартных и привычных: sgd, adam\n",
        "\n",
        "Компиляция модели .compile()\n",
        "---\n",
        "Обучение модели .fit()\n",
        "---\n",
        "Проверка результатов\n",
        "---\n"
      ],
      "metadata": {
        "id": "umfvslNLZwdz"
      }
    }
  ],
  "metadata": {
    "colab": {
      "private_outputs": true,
      "toc_visible": true,
      "provenance": [],
      "include_colab_link": true
    },
    "kernelspec": {
      "display_name": "Python 3",
      "name": "python3"
    },
    "language_info": {
      "name": "python"
    }
  },
  "nbformat": 4,
  "nbformat_minor": 0
}