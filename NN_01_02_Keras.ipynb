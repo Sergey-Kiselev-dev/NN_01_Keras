from keras.layers import Dense
from keras.models import Sequential

model = Sequential([
    Dense(1, input_shape=(1,), activation='relu')
])

model.summary()
